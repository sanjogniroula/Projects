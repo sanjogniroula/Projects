{
 "cells": [
  {
   "cell_type": "markdown",
   "id": "8c526c14",
   "metadata": {},
   "source": [
    "Importing the Data"
   ]
  },
  {
   "cell_type": "code",
   "execution_count": null,
   "id": "b92c1491",
   "metadata": {},
   "outputs": [],
   "source": [
    "import pandas as pd\n",
    "import numpy as np\n",
    "import datetime as dt\n",
    "prices=pd.read_csv('/Users/sanjogniroula/Downloads/airbnb_price.csv')\n",
    "print(prices.head())"
   ]
  },
  {
   "cell_type": "code",
   "execution_count": 5,
   "id": "25f9743c",
   "metadata": {},
   "outputs": [],
   "source": [
    "xls=pd.ExcelFile('/Users/sanjogniroula/Downloads/airbnb_room_type.xlsx')\n",
    "room_types=xls.parse(0)        "
   ]
  },
  {
   "cell_type": "code",
   "execution_count": 6,
   "id": "841b1d98",
   "metadata": {},
   "outputs": [
    {
     "name": "stdout",
     "output_type": "stream",
     "text": [
      "   listing_id                                description        room_type\n",
      "0        2595                      Skylit Midtown Castle  Entire home/apt\n",
      "1        3831            Cozy Entire Floor of Brownstone  Entire home/apt\n",
      "2        5099  Large Cozy 1 BR Apartment In Midtown East  Entire home/apt\n",
      "3        5178            Large Furnished Room Near B'way     private room\n",
      "4        5238         Cute & Cozy Lower East Side 1 bdrm  Entire home/apt\n"
     ]
    }
   ],
   "source": [
    "print(room_types.head())"
   ]
  },
  {
   "cell_type": "code",
   "execution_count": 8,
   "id": "c32b64e5",
   "metadata": {},
   "outputs": [
    {
     "name": "stdout",
     "output_type": "stream",
     "text": [
      "   listing_id    host_name   last_review\n",
      "0        2595     Jennifer   May 21 2019\n",
      "1        3831  LisaRoxanne  July 05 2019\n",
      "2        5099        Chris  June 22 2019\n",
      "3        5178     Shunichi  June 24 2019\n",
      "4        5238          Ben  June 09 2019\n"
     ]
    }
   ],
   "source": [
    "reviews=pd.read_csv('/Users/sanjogniroula/Downloads/airbnb_last_review.tsv',sep='\\t')\n",
    "print(reviews.head())"
   ]
  },
  {
   "cell_type": "markdown",
   "id": "3f73c80d",
   "metadata": {},
   "source": [
    "Cleaning the price column"
   ]
  },
  {
   "cell_type": "code",
   "execution_count": 10,
   "id": "a8522b9d",
   "metadata": {},
   "outputs": [
    {
     "name": "stdout",
     "output_type": "stream",
     "text": [
      "       listing_id price                 nbhood_full\n",
      "0            2595   225          Manhattan, Midtown\n",
      "1            3831    89      Brooklyn, Clinton Hill\n",
      "2            5099   200      Manhattan, Murray Hill\n",
      "3            5178    79   Manhattan, Hell's Kitchen\n",
      "4            5238   150        Manhattan, Chinatown\n",
      "...           ...   ...                         ...\n",
      "25204    36425863   129  Manhattan, Upper East Side\n",
      "25205    36427429    45            Queens, Flushing\n",
      "25206    36438336   235  Staten Island, Great Kills\n",
      "25207    36442252   100           Bronx, Mott Haven\n",
      "25208    36455809    30          Brooklyn, Bushwick\n",
      "\n",
      "[25209 rows x 3 columns]\n"
     ]
    }
   ],
   "source": [
    "prices['price']=prices['price'].str.replace(r'\\D','',regex=True)\n",
    "print(prices)"
   ]
  },
  {
   "cell_type": "code",
   "execution_count": 11,
   "id": "e743d8c3",
   "metadata": {},
   "outputs": [
    {
     "name": "stdout",
     "output_type": "stream",
     "text": [
      "0        225\n",
      "1         89\n",
      "2        200\n",
      "3         79\n",
      "4        150\n",
      "        ... \n",
      "25204    129\n",
      "25205     45\n",
      "25206    235\n",
      "25207    100\n",
      "25208     30\n",
      "Name: price, Length: 25209, dtype: int64\n"
     ]
    }
   ],
   "source": [
    "prices['price']=pd.to_numeric(prices['price'])\n",
    "print(prices['price'])"
   ]
  },
  {
   "cell_type": "markdown",
   "id": "38ae86fe",
   "metadata": {},
   "source": [
    "Calculating average price"
   ]
  },
  {
   "cell_type": "code",
   "execution_count": 37,
   "id": "88e746cf",
   "metadata": {},
   "outputs": [
    {
     "name": "stdout",
     "output_type": "stream",
     "text": [
      "The average price per night for an Airbnb listing in NYC is $141.82.\n"
     ]
    }
   ],
   "source": [
    "free_listings=prices['price']==0\n",
    "prices=prices.loc[~free_listings]\n",
    "avg_price=prices['price'].mean()\n",
    "print(\"The average price per night for an Airbnb listing in NYC is ${0:.2f}.\".format(avg_price))"
   ]
  },
  {
   "cell_type": "markdown",
   "id": "89966740",
   "metadata": {},
   "source": [
    "Comparing costs to the private rental market"
   ]
  },
  {
   "cell_type": "code",
   "execution_count": 40,
   "id": "3cd853f8",
   "metadata": {},
   "outputs": [
    {
     "name": "stdout",
     "output_type": "stream",
     "text": [
      "airbnb monthly costs are $4313.61, while in the private market you would pay $3100.00)\n"
     ]
    }
   ],
   "source": [
    "prices['price_per_month']=prices['price']*365/12\n",
    "average_price_per_month=round(prices['price_per_month'].mean(),2)\n",
    "print('airbnb monthly costs are ${}, while in the private market you would pay {})'.format(average_price_per_month,\"$3100.00\"))"
   ]
  },
  {
   "cell_type": "markdown",
   "id": "75abafcd",
   "metadata": {},
   "source": [
    "Cleaning the room type column"
   ]
  },
  {
   "cell_type": "code",
   "execution_count": 41,
   "id": "4aeedb4d",
   "metadata": {},
   "outputs": [
    {
     "name": "stdout",
     "output_type": "stream",
     "text": [
      "entire home/apt    13266\n",
      "private room       11356\n",
      "shared room          587\n",
      "Name: room_type, dtype: int64\n"
     ]
    }
   ],
   "source": [
    "room_types[\"room_type\"]=room_types[\"room_type\"].str.lower()\n",
    "room_types[\"room_type\"]=room_types[\"room_type\"].astype(\"category\")\n",
    "room_frequencies=room_types[\"room_type\"].value_counts()\n",
    "print(room_frequencies)"
   ]
  },
  {
   "cell_type": "markdown",
   "id": "e543c683",
   "metadata": {},
   "source": [
    "What timeframe are we working with?"
   ]
  },
  {
   "cell_type": "code",
   "execution_count": 43,
   "id": "e047b6c5",
   "metadata": {},
   "outputs": [
    {
     "name": "stdout",
     "output_type": "stream",
     "text": [
      "The latest Airbnb review is 2019-01-01, the earliest review is 2019-07-09\n"
     ]
    }
   ],
   "source": [
    "reviews[\"last_review\"]=pd.to_datetime(reviews[\"last_review\"])\n",
    "first_reviewed=reviews[\"last_review\"].dt.date.min()\n",
    "last_reviewed=reviews[\"last_review\"].dt.date.max()\n",
    "print(\"The latest Airbnb review is {}, the earliest review is {}\".format(first_reviewed,last_reviewed))"
   ]
  },
  {
   "cell_type": "markdown",
   "id": "d0ef6229",
   "metadata": {},
   "source": [
    "Joining the DataFrames"
   ]
  },
  {
   "cell_type": "code",
   "execution_count": 44,
   "id": "5daabbb8",
   "metadata": {},
   "outputs": [
    {
     "name": "stdout",
     "output_type": "stream",
     "text": [
      "There are 0 duplicates in the DataFrame.\n"
     ]
    }
   ],
   "source": [
    "rooms_and_prices=prices.merge(room_types,how='outer',on='listing_id')\n",
    "airbnb_merged=rooms_and_prices.merge(reviews,how='outer',on='listing_id')\n",
    "airbnb_merged.dropna(inplace=True)\n",
    "print(\"There are {} duplicates in the DataFrame.\".format(airbnb_merged.duplicated().sum()))"
   ]
  },
  {
   "cell_type": "markdown",
   "id": "896a6f7e",
   "metadata": {},
   "source": [
    "Analyzing listing prices by NYC borough"
   ]
  },
  {
   "cell_type": "code",
   "execution_count": 45,
   "id": "e9b21fd6",
   "metadata": {},
   "outputs": [
    {
     "name": "stdout",
     "output_type": "stream",
     "text": [
      "                     sum    mean  median  count\n",
      "borough                                        \n",
      "Manhattan      1898417.0  184.04   149.0  10315\n",
      "Brooklyn       1275250.0  122.02    95.0  10451\n",
      "Queens          320715.0   92.83    70.0   3455\n",
      "Staten Island    22974.0   86.04    71.0    267\n",
      "Bronx            55156.0   79.25    65.0    696\n"
     ]
    }
   ],
   "source": [
    "airbnb_merged[\"borough\"]=airbnb_merged[\"nbhood_full\"].str.partition(', ')[0]\n",
    "boroughs=airbnb_merged.groupby(\"borough\")[\"price\"].agg([\"sum\",\"mean\",\"median\",\"count\"])\n",
    "boroughs=boroughs.round(2).sort_values(\"mean\",ascending=False)\n",
    "print(boroughs)"
   ]
  },
  {
   "cell_type": "markdown",
   "id": "30f7c72b",
   "metadata": {},
   "source": [
    "Analyzing listing prices by NYC borough"
   ]
  },
  {
   "cell_type": "code",
   "execution_count": 46,
   "id": "a31fe2b5",
   "metadata": {},
   "outputs": [
    {
     "name": "stdout",
     "output_type": "stream",
     "text": [
      "borough        price_range\n",
      "Bronx          Budget          381\n",
      "               Average         285\n",
      "               Expensive        25\n",
      "               Extravagant       5\n",
      "Brooklyn       Budget         3194\n",
      "               Average        5532\n",
      "               Expensive      1466\n",
      "               Extravagant     259\n",
      "Manhattan      Budget         1148\n",
      "               Average        5285\n",
      "               Expensive      3072\n",
      "               Extravagant     810\n",
      "Queens         Budget         1631\n",
      "               Average        1505\n",
      "               Expensive       291\n",
      "               Extravagant      28\n",
      "Staten Island  Budget          124\n",
      "               Average         123\n",
      "               Expensive        20\n",
      "               Extravagant       0\n",
      "Name: price_range, dtype: int64\n"
     ]
    }
   ],
   "source": [
    "label_names=[\"Budget\",\"Average\",\"Expensive\",\"Extravagant\"]\n",
    "ranges=[0,69,175,350,np.inf]\n",
    "airbnb_merged[\"price_range\"]=pd.cut(airbnb_merged[\"price\"],bins=ranges,labels=label_names)\n",
    "prices_by_borough=airbnb_merged.groupby(['borough','price_range'])['price_range'].count()\n",
    "print(prices_by_borough)"
   ]
  }
 ],
 "metadata": {
  "kernelspec": {
   "display_name": "Python 3 (ipykernel)",
   "language": "python",
   "name": "python3"
  },
  "language_info": {
   "codemirror_mode": {
    "name": "ipython",
    "version": 3
   },
   "file_extension": ".py",
   "mimetype": "text/x-python",
   "name": "python",
   "nbconvert_exporter": "python",
   "pygments_lexer": "ipython3",
   "version": "3.9.7"
  }
 },
 "nbformat": 4,
 "nbformat_minor": 5
}
